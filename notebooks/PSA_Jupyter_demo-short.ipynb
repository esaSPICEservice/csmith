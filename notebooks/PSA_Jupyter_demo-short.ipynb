{
 "cells": [
  {
   "cell_type": "markdown",
   "metadata": {
    "slideshow": {
     "slide_type": "slide"
    }
   },
   "source": [
    "# Data exploration in the PSA with EPN-TAP\n",
    "- EPN-TAP is a Europlanet extension of TAP for planetary science\n",
    "- The PSA supports access to products via EPN-TAP\n",
    "  - EPN-TAP allows queries to the database not possible with other interfaces\n",
    "- Data in the PSA are archived in PDS [PDS](https://pds.nasa.gov/) format\n",
    "    - each archive item consists of product + label\n",
    "        - PDS3 = previous standard (labels in PVL)\n",
    "        - PDS4 = current standard (labels in XML)\n",
    "- PSA data are highly diverse\n",
    "    - from microscope to telescopes\n",
    "    - on orbiters, flybys, landers etc.\n",
    "- This notebook shows a few quick examples\n",
    "  - query products and explore\n",
    "  - unpack and visualise some camera data\n",
    "  - unpack and visualise some AFM data"
   ]
  },
  {
   "cell_type": "code",
   "execution_count": null,
   "metadata": {
    "code_folding": [],
    "slideshow": {
     "slide_type": "slide"
    }
   },
   "outputs": [],
   "source": [
    "import zipfile, struct, warnings, requests, struct, os\n",
    "from pathlib import PurePath\n",
    "from io import BytesIO\n",
    "\n",
    "import numpy as np\n",
    "import pandas as pd\n",
    "import matplotlib\n",
    "import matplotlib.pyplot as plt\n",
    "\n",
    "import astropy, skimage\n",
    "from astropy.io.votable import parse_single_table\n",
    "from astroquery.utils.tap.core import Tap\n",
    "import pvl\n",
    "\n",
    "from plotly.offline import iplot, init_notebook_mode\n",
    "import plotly.graph_objs as go\n",
    "init_notebook_mode()\n",
    "\n",
    "import IPython.display as display\n",
    "from PIL import Image\n",
    "\n",
    "%matplotlib inline\n",
    "warnings.simplefilter('ignore')"
   ]
  },
  {
   "cell_type": "code",
   "execution_count": null,
   "metadata": {
    "slideshow": {
     "slide_type": "slide"
    }
   },
   "outputs": [],
   "source": [
    "tap_url = 'https://archives.esac.esa.int/psa/epn-tap/tap/'\n",
    "psa = Tap(url=tap_url)"
   ]
  },
  {
   "cell_type": "markdown",
   "metadata": {
    "slideshow": {
     "slide_type": "slide"
    }
   },
   "source": [
    "## PSA data exploration\n",
    "\n",
    "Run some simple queries to get some statistics about the data in the PSA"
   ]
  },
  {
   "cell_type": "markdown",
   "metadata": {
    "slideshow": {
     "slide_type": "slide"
    }
   },
   "source": [
    "### How many products are there in the archive?"
   ]
  },
  {
   "cell_type": "code",
   "execution_count": null,
   "metadata": {
    "slideshow": {
     "slide_type": "fragment"
    }
   },
   "outputs": [],
   "source": [
    "query = 'SELECT COUNT(1) from epn_core'\n",
    "result = psa.launch_job(query).get_data()\n",
    "result['count'][0]"
   ]
  },
  {
   "cell_type": "markdown",
   "metadata": {
    "slideshow": {
     "slide_type": "slide"
    }
   },
   "source": [
    "### How big is the archive?"
   ]
  },
  {
   "cell_type": "code",
   "execution_count": null,
   "metadata": {
    "slideshow": {
     "slide_type": "fragment"
    }
   },
   "outputs": [],
   "source": [
    "query = 'SELECT SUM(access_estsize) from epn_core' \n",
    "result = psa.launch_job(query).get_data() # in kbyte\n",
    "result['sum'][0]/1024./1024./1024."
   ]
  },
  {
   "cell_type": "markdown",
   "metadata": {
    "slideshow": {
     "slide_type": "slide"
    }
   },
   "source": [
    "### What are the _largest_ products?"
   ]
  },
  {
   "cell_type": "code",
   "execution_count": null,
   "metadata": {
    "slideshow": {
     "slide_type": "fragment"
    }
   },
   "outputs": [],
   "source": [
    "query = 'SELECT TOP 10 granule_uid, access_estsize from epn_core WHERE access_estsize IS NOT NULL ORDER BY access_estsize DESC'\n",
    "result = psa.launch_job(query).get_data()\n",
    "result"
   ]
  },
  {
   "cell_type": "markdown",
   "metadata": {
    "slideshow": {
     "slide_type": "slide"
    }
   },
   "source": [
    "### What missions does the PSA host?"
   ]
  },
  {
   "cell_type": "code",
   "execution_count": null,
   "metadata": {
    "slideshow": {
     "slide_type": "fragment"
    }
   },
   "outputs": [],
   "source": [
    "query = 'SELECT DISTINCT instrument_host_name from epn_core'\n",
    "result = psa.launch_job(query).get_data()\n",
    "result"
   ]
  },
  {
   "cell_type": "markdown",
   "metadata": {
    "slideshow": {
     "slide_type": "slide"
    }
   },
   "source": [
    "### How many different targets are there in the archive?"
   ]
  },
  {
   "cell_type": "code",
   "execution_count": null,
   "metadata": {
    "slideshow": {
     "slide_type": "fragment"
    }
   },
   "outputs": [],
   "source": [
    "query = 'SELECT DISTINCT target_name FROM epn_core'\n",
    "result = psa.launch_job(query).get_data()\n",
    "result"
   ]
  },
  {
   "cell_type": "markdown",
   "metadata": {
    "slideshow": {
     "slide_type": "slide"
    }
   },
   "source": [
    "## OK, what data do we have about Mars - show me missions!"
   ]
  },
  {
   "cell_type": "code",
   "execution_count": null,
   "metadata": {
    "slideshow": {
     "slide_type": "fragment"
    }
   },
   "outputs": [],
   "source": [
    "query = \"SELECT DISTINCT instrument_host_name FROM epn_core WHERE target_name='Mars'\"\n",
    "missions = psa.launch_job(query).get_data()\n",
    "missions"
   ]
  },
  {
   "cell_type": "markdown",
   "metadata": {
    "slideshow": {
     "slide_type": "slide"
    }
   },
   "source": [
    "## Interesting - Rosetta observed Mars! With which instruments?"
   ]
  },
  {
   "cell_type": "code",
   "execution_count": null,
   "metadata": {
    "slideshow": {
     "slide_type": "fragment"
    }
   },
   "outputs": [],
   "source": [
    "query = \"SELECT DISTINCT instrument_name FROM epn_core WHERE target_name='Mars' AND instrument_host_name='Rosetta'\"\n",
    "instruments = psa.launch_job(query).get_data()\n",
    "instruments"
   ]
  },
  {
   "cell_type": "markdown",
   "metadata": {
    "slideshow": {
     "slide_type": "slide"
    }
   },
   "source": [
    "## OSIRIS is the camera, right? What data did it produce?\n",
    "\n",
    "This time putting the table into pandas since I'm more comfortable with it"
   ]
  },
  {
   "cell_type": "code",
   "execution_count": null,
   "metadata": {
    "scrolled": true,
    "slideshow": {
     "slide_type": "fragment"
    }
   },
   "outputs": [],
   "source": [
    "query = \"SELECT * FROM epn_core WHERE target_name='Mars' AND instrument_name='OSIRIS'\"\n",
    "osiris_mars = psa.launch_job(query).get_data().to_pandas()\n",
    "print(len(osiris_mars))\n",
    "osiris_mars"
   ]
  },
  {
   "cell_type": "markdown",
   "metadata": {
    "slideshow": {
     "slide_type": "slide"
    }
   },
   "source": [
    "## Let's just tidy that up a bit\n",
    "\n",
    "- There are lots of columns with \"Nan\"s because not all fields can be (easily) populated due to the diverse nature of the instruments\n",
    "    - remove those \n",
    "- and get the strings in utf8..."
   ]
  },
  {
   "cell_type": "code",
   "execution_count": null,
   "metadata": {
    "slideshow": {
     "slide_type": "fragment"
    }
   },
   "outputs": [],
   "source": [
    "osiris_mars.dropna(axis=1, how='all', inplace=True)\n",
    "\n",
    "str_df = osiris_mars.select_dtypes([np.object])\n",
    "str_df = str_df.stack().str.decode('utf-8').unstack()\n",
    "for col in str_df:\n",
    "    osiris_mars[col] = str_df[col]"
   ]
  },
  {
   "cell_type": "markdown",
   "metadata": {
    "slideshow": {
     "slide_type": "slide"
    }
   },
   "source": [
    "## Let's look at one entry"
   ]
  },
  {
   "cell_type": "code",
   "execution_count": null,
   "metadata": {
    "slideshow": {
     "slide_type": "slide"
    }
   },
   "outputs": [],
   "source": [
    "osiris_mars.iloc[0]"
   ]
  },
  {
   "cell_type": "markdown",
   "metadata": {
    "slideshow": {
     "slide_type": "fragment"
    }
   },
   "source": [
    "Ahh, thumbnails are provided!\n",
    "\n",
    "Great, I don't have to work hard to get a sneak preview! Let's look at an example - we can show images directly in the Notebook:"
   ]
  },
  {
   "cell_type": "code",
   "execution_count": null,
   "metadata": {
    "slideshow": {
     "slide_type": "slide"
    }
   },
   "outputs": [],
   "source": [
    "display.Image(osiris_mars.thumbnail_url.iloc[0], width=500, embed=True)"
   ]
  },
  {
   "cell_type": "markdown",
   "metadata": {},
   "source": [
    "We can also grab a bunch of images and show them using matplotlib (easier to tile etc.). Let's take the first 9:"
   ]
  },
  {
   "cell_type": "code",
   "execution_count": null,
   "metadata": {
    "slideshow": {
     "slide_type": "skip"
    }
   },
   "outputs": [],
   "source": [
    "f, axarr = plt.subplots(3, 3, figsize=(16,16))\n",
    "curr_row = 0\n",
    "for idx, product in osiris_mars.iloc[0:9].iterrows():\n",
    "    response = requests.get(url=product['thumbnail_url'])\n",
    "    im = Image.open(BytesIO(response.content))\n",
    "    col = idx % 3\n",
    "    axarr[col, curr_row].imshow(im, cmap=matplotlib.cm.gray)\n",
    "    axarr[col, curr_row].xaxis.set_visible(False)\n",
    "    axarr[col, curr_row].yaxis.set_visible(False)    \n",
    "    if col == 2:\n",
    "        curr_row += 1"
   ]
  },
  {
   "cell_type": "markdown",
   "metadata": {
    "slideshow": {
     "slide_type": "slide"
    }
   },
   "source": [
    "## Tell me more about that first image"
   ]
  },
  {
   "cell_type": "code",
   "execution_count": null,
   "metadata": {
    "slideshow": {
     "slide_type": "subslide"
    }
   },
   "outputs": [],
   "source": [
    "osiris_mars.iloc[0]"
   ]
  },
  {
   "cell_type": "markdown",
   "metadata": {
    "slideshow": {
     "slide_type": "slide"
    }
   },
   "source": [
    "So I have a URL for direct access, and a format - which the MIME code tell me is a zip."
   ]
  },
  {
   "cell_type": "code",
   "execution_count": null,
   "metadata": {
    "slideshow": {
     "slide_type": "fragment"
    }
   },
   "outputs": [],
   "source": [
    "access_url = osiris_mars.iloc[0].access_url\n",
    "access_url"
   ]
  },
  {
   "cell_type": "markdown",
   "metadata": {
    "slideshow": {
     "slide_type": "fragment"
    }
   },
   "source": [
    "Let's download the zip on the fly and see what's in it..."
   ]
  },
  {
   "cell_type": "code",
   "execution_count": null,
   "metadata": {
    "slideshow": {
     "slide_type": "fragment"
    }
   },
   "outputs": [],
   "source": [
    "r = requests.get(url=access_url)\n",
    "zip = zipfile.ZipFile(BytesIO(r.content))\n",
    "zipfiles = zip.namelist()\n",
    "zipfiles"
   ]
  },
  {
   "cell_type": "markdown",
   "metadata": {
    "slideshow": {
     "slide_type": "fragment"
    }
   },
   "source": [
    "So the product actually consists of the image file with attached label, and a browse product. We need to get the file in the DATA directory to work with the actual data...\n"
   ]
  },
  {
   "cell_type": "code",
   "execution_count": null,
   "metadata": {},
   "outputs": [],
   "source": [
    "data_file = [file for file in zipfiles if PurePath(file).parts[1]=='DATA'][0]\n",
    "data_file"
   ]
  },
  {
   "cell_type": "markdown",
   "metadata": {
    "slideshow": {
     "slide_type": "slide"
    }
   },
   "source": [
    "Ooh, attached PDS3 labels are nasty - I picked a bad example! Still, we can deal with it - find the label length by parsing until we hit \"END\""
   ]
  },
  {
   "cell_type": "code",
   "execution_count": null,
   "metadata": {
    "scrolled": false,
    "slideshow": {
     "slide_type": "fragment"
    }
   },
   "outputs": [],
   "source": [
    "def read_label():\n",
    "    label = []\n",
    "    with zip.open(data_file) as f:  \n",
    "        line = f.readline().decode('utf8')\n",
    "        while line.strip() != 'END':\n",
    "            if line.strip() == '':\n",
    "                line = f.readline().decode('utf8')\n",
    "                continue\n",
    "            else:\n",
    "                label.append(line.strip())\n",
    "                line = f.readline().decode('utf8')\n",
    "            \n",
    "    return label\n",
    "\n",
    "label = read_label()"
   ]
  },
  {
   "cell_type": "code",
   "execution_count": null,
   "metadata": {
    "slideshow": {
     "slide_type": "fragment"
    }
   },
   "outputs": [],
   "source": [
    "len(label)"
   ]
  },
  {
   "cell_type": "markdown",
   "metadata": {
    "slideshow": {
     "slide_type": "fragment"
    }
   },
   "source": [
    "Oof, that's a lot of meta-data! PDS3 labels are stored in \"Parameter Value Language\" (PVL) which we can pass to get a dictionary..."
   ]
  },
  {
   "cell_type": "code",
   "execution_count": null,
   "metadata": {
    "scrolled": true,
    "slideshow": {
     "slide_type": "slide"
    }
   },
   "outputs": [],
   "source": [
    "meta = pvl.loads('\\r\\n'.join(label))\n",
    "meta"
   ]
  },
  {
   "cell_type": "markdown",
   "metadata": {
    "slideshow": {
     "slide_type": "fragment"
    }
   },
   "source": [
    "Now we have all of the PDS3 meta-data ready to be used. We can use the IMAGE pointer to tell us where to get the actual image array"
   ]
  },
  {
   "cell_type": "code",
   "execution_count": null,
   "metadata": {
    "slideshow": {
     "slide_type": "fragment"
    }
   },
   "outputs": [],
   "source": [
    "offset = (meta['^IMAGE']-1) * meta['RECORD_BYTES']\n",
    "offset"
   ]
  },
  {
   "cell_type": "markdown",
   "metadata": {
    "slideshow": {
     "slide_type": "slide"
    }
   },
   "source": [
    "But we need a bit more meta-data to open it correctly..."
   ]
  },
  {
   "cell_type": "code",
   "execution_count": null,
   "metadata": {
    "slideshow": {
     "slide_type": "fragment"
    }
   },
   "outputs": [],
   "source": [
    "meta['IMAGE']"
   ]
  },
  {
   "cell_type": "code",
   "execution_count": null,
   "metadata": {
    "slideshow": {
     "slide_type": "fragment"
    }
   },
   "outputs": [],
   "source": [
    "rows = meta['IMAGE']['LINES']\n",
    "cols = meta['IMAGE']['LINE_SAMPLES']\n",
    "samples = rows * cols"
   ]
  },
  {
   "cell_type": "markdown",
   "metadata": {
    "slideshow": {
     "slide_type": "slide"
    }
   },
   "source": [
    "OK, how we have enough to unpack the data!"
   ]
  },
  {
   "cell_type": "code",
   "execution_count": null,
   "metadata": {
    "slideshow": {
     "slide_type": "fragment"
    }
   },
   "outputs": [],
   "source": [
    "data = struct.unpack_from('<%dH' % samples, zip.open(data_file).read(), offset)"
   ]
  },
  {
   "cell_type": "code",
   "execution_count": null,
   "metadata": {
    "slideshow": {
     "slide_type": "fragment"
    }
   },
   "outputs": [],
   "source": [
    " data = np.array(data).reshape((cols, rows))"
   ]
  },
  {
   "cell_type": "code",
   "execution_count": null,
   "metadata": {
    "slideshow": {
     "slide_type": "slide"
    }
   },
   "outputs": [],
   "source": [
    "fig, ax = plt.subplots(figsize=(14,14))\n",
    "im = ax.imshow(data, cmap=matplotlib.cm.gray, interpolation='nearest')"
   ]
  },
  {
   "cell_type": "markdown",
   "metadata": {
    "slideshow": {
     "slide_type": "slide"
    }
   },
   "source": [
    "Check the minimum, maximum and mean values to compare with the label:"
   ]
  },
  {
   "cell_type": "code",
   "execution_count": null,
   "metadata": {
    "slideshow": {
     "slide_type": "fragment"
    }
   },
   "outputs": [],
   "source": [
    "meta['IMAGE']['DERIVED_MINIMUM'], meta['IMAGE']['DERIVED_MAXIMUM'], meta['IMAGE']['MEAN']"
   ]
  },
  {
   "cell_type": "code",
   "execution_count": null,
   "metadata": {
    "slideshow": {
     "slide_type": "fragment"
    }
   },
   "outputs": [],
   "source": [
    "data.min(), data.max(), data.mean()"
   ]
  },
  {
   "cell_type": "markdown",
   "metadata": {
    "slideshow": {
     "slide_type": "slide"
    }
   },
   "source": [
    "Now we have the real data, not just a preview, and can try things like histograms"
   ]
  },
  {
   "cell_type": "code",
   "execution_count": null,
   "metadata": {
    "slideshow": {
     "slide_type": "fragment"
    }
   },
   "outputs": [],
   "source": [
    "fig_hist, ax_hist = plt.subplots(figsize=(14,10))\n",
    "ax_hist.hist(data.ravel(), bins=256, histtype='step', color='black')\n",
    "ax_hist.ticklabel_format(axis='y', style='scientific', scilimits=(0, 0))\n",
    "ax_hist.set_xlabel('Pixel intensity')\n",
    "ax_hist.set_yticks([]);"
   ]
  },
  {
   "cell_type": "markdown",
   "metadata": {
    "slideshow": {
     "slide_type": "slide"
    }
   },
   "source": [
    "Now we can play with things like adaptive histogram equalisation:"
   ]
  },
  {
   "cell_type": "code",
   "execution_count": null,
   "metadata": {
    "slideshow": {
     "slide_type": "fragment"
    }
   },
   "outputs": [],
   "source": [
    "img_adapteq = skimage.exposure.equalize_adapthist(data, clip_limit=0.03)"
   ]
  },
  {
   "cell_type": "code",
   "execution_count": null,
   "metadata": {
    "slideshow": {
     "slide_type": "slide"
    }
   },
   "outputs": [],
   "source": [
    "fig, ax = plt.subplots(figsize=(14,14))\n",
    "im = ax.imshow(img_adapteq, cmap=matplotlib.cm.gray, interpolation='nearest')"
   ]
  },
  {
   "cell_type": "markdown",
   "metadata": {
    "slideshow": {
     "slide_type": "slide"
    }
   },
   "source": [
    "# MIDAS data\n",
    "- MIDAS was an Atomic Force Microscope on Rosetta\n",
    "- Query and extract data into pandas as before"
   ]
  },
  {
   "cell_type": "code",
   "execution_count": null,
   "metadata": {
    "slideshow": {
     "slide_type": "slide"
    }
   },
   "outputs": [],
   "source": [
    "query = \"SELECT * FROM epn_core WHERE target_name='67P' AND instrument_name='MIDAS'\"\n",
    "data = psa.launch_job(query).get_data().to_pandas()\n",
    "\n",
    "# tidy it up a little\n",
    "str_df = data.select_dtypes([np.object])\n",
    "str_df = str_df.stack().str.decode('utf-8').unstack()\n",
    "for col in str_df:\n",
    "    data[col] = str_df[col]\n",
    "    \n",
    "len(data)"
   ]
  },
  {
   "cell_type": "markdown",
   "metadata": {
    "slideshow": {
     "slide_type": "fragment"
    }
   },
   "source": [
    "Note that this number is limited by the AstroQuery implementation for syncronous queries!"
   ]
  },
  {
   "cell_type": "code",
   "execution_count": null,
   "metadata": {
    "slideshow": {
     "slide_type": "skip"
    }
   },
   "outputs": [],
   "source": [
    "data.granule_gid.unique()"
   ]
  },
  {
   "cell_type": "markdown",
   "metadata": {
    "slideshow": {
     "slide_type": "slide"
    }
   },
   "source": [
    "## MIDAS specific filtering of products\n",
    "\n",
    "Each MIDAS product is described by a three-letter acronym at the start. You can read more about the archiving conventions here: http://pdssbn.astro.umd.edu/holdings/ro-c-midas-3-esc2-samples-v1.0/document/mid_eaicd.pdf. If you want to get really technical you can also look at the User Manual [http://pdssbn.astro.umd.edu/holdings/ro-c-midas-3-esc2-samples-v1.0/document/mid_user.pdf].\n",
    "\n",
    "MIDAS images all start with IMG and the two letters at the end of the product name describe the image channels used - the most useful is ZS, which is the topographic channel. So we'll add some new colums to allow us to select the data type and channel, and filter to just those:"
   ]
  },
  {
   "cell_type": "code",
   "execution_count": null,
   "metadata": {
    "slideshow": {
     "slide_type": "slide"
    }
   },
   "outputs": [],
   "source": [
    "data['product_id'] = data.granule_uid.apply( lambda uid: uid.split(':')[-1])\n",
    "data['data_type'] = pd.Series(data.product_id.apply( lambda prod: prod[0:3] ), name='data_type')\n",
    "images = data[ data.data_type=='IMG' ].copy()\n",
    "images['channel'] = images.product_id.apply( lambda prod: prod[-2:] )\n",
    "images = images[ images.channel=='ZS' ]\n",
    "images.head()"
   ]
  },
  {
   "cell_type": "markdown",
   "metadata": {
    "slideshow": {
     "slide_type": "slide"
    }
   },
   "source": [
    "## Choose an image\n",
    "\n",
    "Here we will look at a specific image used in a recent paper. The product ID is:\n",
    "* IMG_1501323_1504200_013_ZS (ESC1)"
   ]
  },
  {
   "cell_type": "code",
   "execution_count": null,
   "metadata": {
    "slideshow": {
     "slide_type": "slide"
    }
   },
   "outputs": [],
   "source": [
    "image1 = 'IMG_1501323_1504200_013_ZS'\n",
    "access_url = data[data.product_id==image1].access_url.squeeze()"
   ]
  },
  {
   "cell_type": "code",
   "execution_count": null,
   "metadata": {
    "slideshow": {
     "slide_type": "fragment"
    }
   },
   "outputs": [],
   "source": [
    "r = requests.get(url=access_url)\n",
    "zip = zipfile.ZipFile(BytesIO(r.content))\n",
    "zip.namelist()"
   ]
  },
  {
   "cell_type": "code",
   "execution_count": null,
   "metadata": {
    "slideshow": {
     "slide_type": "fragment"
    }
   },
   "outputs": [],
   "source": [
    "label_file = [filename for filename in zip.namelist() if filename.endswith('.LBL')][0]\n",
    "label = pvl.load(zip.open(label_file))\n",
    "\n",
    "data_file = [filename for filename in zip.namelist() if filename.endswith('.IMG')][0]\n",
    "rawdata = zip.open(data_file).read()"
   ]
  },
  {
   "cell_type": "code",
   "execution_count": null,
   "metadata": {
    "scrolled": true
   },
   "outputs": [],
   "source": [
    "label"
   ]
  },
  {
   "cell_type": "markdown",
   "metadata": {
    "slideshow": {
     "slide_type": "slide"
    }
   },
   "source": [
    "Now we need to know a bit more - if you browse the label more carefully you can see that the .IMG file contains two parts - an ASCII header with a fixed length of 2048 bytes, and some binary data. "
   ]
  },
  {
   "cell_type": "code",
   "execution_count": null,
   "metadata": {
    "slideshow": {
     "slide_type": "fragment"
    }
   },
   "outputs": [],
   "source": [
    "offset = label['BCR_HEADER']['BYTES']\n",
    "zcal = float(label['BCR_IMAGE']['SCALING_FACTOR'])\n",
    "xpix = int(label['BCR_IMAGE']['LINE_SAMPLES'])\n",
    "ypix = int(label['BCR_IMAGE']['LINES'])\n",
    "xpix_m = float(label['HORIZONTAL_PIXEL_SCALE'])\n",
    "ypix_m = float(label['VERTICAL_PIXEL_SCALE'])\n",
    "xlen_nm = xpix_m * xpix * 1.e9\n",
    "ylen_nm = ypix_m * xpix * 1.e9\n",
    "length = xpix * ypix"
   ]
  },
  {
   "cell_type": "markdown",
   "metadata": {
    "slideshow": {
     "slide_type": "slide"
    }
   },
   "source": [
    "Data are stored as little-endian signed integers - simply read them using the struct module, re-shape according to the label data, rescale so that zero is the minimum and multiply by the Z (height) calibration factor."
   ]
  },
  {
   "cell_type": "code",
   "execution_count": null,
   "metadata": {
    "slideshow": {
     "slide_type": "fragment"
    }
   },
   "outputs": [],
   "source": [
    "data = np.array(struct.unpack('<%dh'%length, rawdata[offset:]), dtype=np.float)\n",
    "data = data.reshape(xpix,ypix)\n",
    "data -= data.min()\n",
    "data *= zcal"
   ]
  },
  {
   "cell_type": "code",
   "execution_count": null,
   "metadata": {
    "code_folding": [],
    "slideshow": {
     "slide_type": "slide"
    }
   },
   "outputs": [],
   "source": [
    "# Now plot it! First with Matplotlib:\n",
    "fig, ax = plt.subplots(figsize=(14,10))\n",
    "extent = [0., xlen_nm, 0., ylen_nm]\n",
    "im = ax.imshow(data, interpolation='nearest', extent=extent, cmap=plt.cm.afmhot)\n",
    "cbar = plt.colorbar(im)\n",
    "plt.setp(ax.get_xticklabels(), rotation=45)\n",
    "ax.set_xlabel('x (nm)')\n",
    "ax.set_ylabel('y (nm)')\n",
    "cbar.set_label('z (nm)')"
   ]
  },
  {
   "cell_type": "code",
   "execution_count": null,
   "metadata": {
    "code_folding": [],
    "slideshow": {
     "slide_type": "slide"
    }
   },
   "outputs": [],
   "source": [
    "xvals = np.linspace(0., xlen_nm, num=xpix)\n",
    "yvals = np.linspace(0., ylen_nm, num=ypix)\n",
    "xs, ys = np.meshgrid(xvals, yvals)\n",
    "img_data = [ go.Surface(x=xs, y=ys, z=data/100.) ]\n",
    "layout = go.Layout(title=image1, autosize=True, width=700, height=450, margin=dict(l=65, r=50, b=65, t=90), scene = dict(aspectmode='data'))\n",
    "iplot(go.Figure(data=img_data, layout=layout), config={'showLink': False, 'displaylogo': False, 'modeBarButtonsToRemove': ['sendDataToCloud']})"
   ]
  },
  {
   "attachments": {
    "BepiColombo_mission_logo_625.jpg": {
     "image/jpeg": "[encoded data removed]"
    }
   },
   "cell_type": "markdown",
   "metadata": {
    "slideshow": {
     "slide_type": "slide"
    }
   },
   "source": [
    "![BepiColombo_mission_logo_625.jpg](attachment:BepiColombo_mission_logo_625.jpg)\n",
    "\n",
    "- Jupyter For BepiColombo\n",
    "  - currently several users are developing Notebooks internally\n",
    "    - often would like to share with users\n",
    "    - rendering of ipynb would be great!\n",
    "    - can be done with BitBucket with appropriate plugins\n",
    "  - we are developing a Quick-Look Analysis (QLA) sytem\n",
    "    - this works with PDS-formatted products, generated automatically every pass\n",
    "    - provides visualisation of science data and housekeeping\n",
    "  - eventually being able to analyse data in Jupyter would be great\n",
    "    - for SGS users, but also for external users\n",
    "      - with appropriate access control\n",
    "      \n",
    "      \n",
    "      \n"
   ]
  },
  {
   "cell_type": "code",
   "execution_count": null,
   "metadata": {},
   "outputs": [],
   "source": []
  }
 ],
 "metadata": {
  "hide_input": false,
  "kernelspec": {
   "display_name": "Python 3",
   "language": "python",
   "name": "python3"
  },
  "language_info": {
   "codemirror_mode": {
    "name": "ipython",
    "version": 3
   },
   "file_extension": ".py",
   "mimetype": "text/x-python",
   "name": "python",
   "nbconvert_exporter": "python",
   "pygments_lexer": "ipython3",
   "version": "3.6.3"
  },
  "latex_envs": {
   "LaTeX_envs_menu_present": true,
   "autocomplete": true,
   "bibliofile": "biblio.bib",
   "cite_by": "apalike",
   "current_citInitial": 1,
   "eqLabelWithNumbers": true,
   "eqNumInitial": 1,
   "hotkeys": {
    "equation": "Ctrl-E",
    "itemize": "Ctrl-I"
   },
   "labels_anchors": false,
   "latex_user_defs": false,
   "report_style_numbering": false,
   "user_envs_cfg": false
  },
  "toc": {
   "nav_menu": {
    "height": "489px",
    "width": "275px"
   },
   "number_sections": true,
   "sideBar": true,
   "skip_h1_title": false,
   "title_cell": "Table of Contents",
   "title_sidebar": "Contents",
   "toc_cell": false,
   "toc_position": {
    "height": "928px",
    "left": "4px",
    "right": "20px",
    "top": "104px",
    "width": "307px"
   },
   "toc_section_display": true,
   "toc_window_display": false
  },
  "varInspector": {
   "cols": {
    "lenName": 16,
    "lenType": 16,
    "lenVar": 40
   },
   "kernels_config": {
    "python": {
     "delete_cmd_postfix": "",
     "delete_cmd_prefix": "del ",
     "library": "var_list.py",
     "varRefreshCmd": "print(var_dic_list())"
    },
    "r": {
     "delete_cmd_postfix": ") ",
     "delete_cmd_prefix": "rm(",
     "library": "var_list.r",
     "varRefreshCmd": "cat(var_dic_list()) "
    }
   },
   "types_to_exclude": [
    "module",
    "function",
    "builtin_function_or_method",
    "instance",
    "_Feature"
   ],
   "window_display": false
  },
  "widgets": {
   "state": {
    "d7e7d5275bdf43538d18e5cea11234d8": {
     "views": [
      {
       "cell_index": 10
      }
     ]
    }
   },
   "version": "1.2.0"
  }
 },
 "nbformat": 4,
 "nbformat_minor": 1
}
